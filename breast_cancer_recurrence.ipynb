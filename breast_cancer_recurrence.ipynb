{
  "nbformat": 4,
  "nbformat_minor": 0,
  "metadata": {
    "colab": {
      "name": "breast_cancer_recurrence.ipynb",
      "provenance": [],
      "collapsed_sections": [
        "ZRvHyBnwwmW-",
        "oEpXSEPqCuxU",
        "G5a6J6kRGJKC",
        "yMcpNc4xIBkH",
        "OHLaXK-TIPq9"
      ],
      "authorship_tag": "ABX9TyOLILd+DyDd9tyfb/Vu1BdJ"
    },
    "kernelspec": {
      "name": "python3",
      "display_name": "Python 3"
    },
    "language_info": {
      "name": "python"
    }
  },
  "cells": [
    {
      "cell_type": "code",
      "metadata": {
        "id": "VNXSI-ZY0NV6"
      },
      "source": [
        "import pandas as pd\n",
        "import numpy as np\n",
        "from sklearn.model_selection import train_test_split\n",
        "from sklearn.preprocessing import LabelEncoder\n",
        "from sklearn.preprocessing import OrdinalEncoder"
      ],
      "execution_count": null,
      "outputs": []
    },
    {
      "cell_type": "code",
      "metadata": {
        "id": "xhXA3jn-0Xtw"
      },
      "source": [
        "#load dataset\n",
        "df = pd.read_csv ('https://raw.githubusercontent.com/bhanuswami026/experimental_projects/main/breast_cancer/breast-cancer.csv', na_values='?')"
      ],
      "execution_count": null,
      "outputs": []
    },
    {
      "cell_type": "code",
      "metadata": {
        "id": "_1lcfV-z0lAV"
      },
      "source": [
        "# set column names\n",
        "df.columns = ['age', 'menopause', 'tumor-size', 'inv-nodes', 'node-caps', 'deg-malig', 'breast', 'breast-quad', 'irradiat', 'Class']"
      ],
      "execution_count": null,
      "outputs": []
    },
    {
      "cell_type": "code",
      "metadata": {
        "colab": {
          "base_uri": "https://localhost:8080/",
          "height": 346
        },
        "id": "I6qOase10ozz",
        "outputId": "b99c8ca8-5563-407c-ffce-2ddc3b3a0e6c"
      },
      "source": [
        "df.head(5)"
      ],
      "execution_count": null,
      "outputs": [
        {
          "output_type": "execute_result",
          "data": {
            "text/html": [
              "<div>\n",
              "<style scoped>\n",
              "    .dataframe tbody tr th:only-of-type {\n",
              "        vertical-align: middle;\n",
              "    }\n",
              "\n",
              "    .dataframe tbody tr th {\n",
              "        vertical-align: top;\n",
              "    }\n",
              "\n",
              "    .dataframe thead th {\n",
              "        text-align: right;\n",
              "    }\n",
              "</style>\n",
              "<table border=\"1\" class=\"dataframe\">\n",
              "  <thead>\n",
              "    <tr style=\"text-align: right;\">\n",
              "      <th></th>\n",
              "      <th>age</th>\n",
              "      <th>menopause</th>\n",
              "      <th>tumor-size</th>\n",
              "      <th>inv-nodes</th>\n",
              "      <th>node-caps</th>\n",
              "      <th>deg-malig</th>\n",
              "      <th>breast</th>\n",
              "      <th>breast-quad</th>\n",
              "      <th>irradiat</th>\n",
              "      <th>Class</th>\n",
              "    </tr>\n",
              "  </thead>\n",
              "  <tbody>\n",
              "    <tr>\n",
              "      <th>0</th>\n",
              "      <td>'50-59'</td>\n",
              "      <td>'ge40'</td>\n",
              "      <td>'15-19'</td>\n",
              "      <td>'0-2'</td>\n",
              "      <td>'no'</td>\n",
              "      <td>'1'</td>\n",
              "      <td>'right'</td>\n",
              "      <td>'central'</td>\n",
              "      <td>'no'</td>\n",
              "      <td>'no-recurrence-events'</td>\n",
              "    </tr>\n",
              "    <tr>\n",
              "      <th>1</th>\n",
              "      <td>'50-59'</td>\n",
              "      <td>'ge40'</td>\n",
              "      <td>'35-39'</td>\n",
              "      <td>'0-2'</td>\n",
              "      <td>'no'</td>\n",
              "      <td>'2'</td>\n",
              "      <td>'left'</td>\n",
              "      <td>'left_low'</td>\n",
              "      <td>'no'</td>\n",
              "      <td>'recurrence-events'</td>\n",
              "    </tr>\n",
              "    <tr>\n",
              "      <th>2</th>\n",
              "      <td>'40-49'</td>\n",
              "      <td>'premeno'</td>\n",
              "      <td>'35-39'</td>\n",
              "      <td>'0-2'</td>\n",
              "      <td>'yes'</td>\n",
              "      <td>'3'</td>\n",
              "      <td>'right'</td>\n",
              "      <td>'left_low'</td>\n",
              "      <td>'yes'</td>\n",
              "      <td>'no-recurrence-events'</td>\n",
              "    </tr>\n",
              "    <tr>\n",
              "      <th>3</th>\n",
              "      <td>'40-49'</td>\n",
              "      <td>'premeno'</td>\n",
              "      <td>'30-34'</td>\n",
              "      <td>'3-5'</td>\n",
              "      <td>'yes'</td>\n",
              "      <td>'2'</td>\n",
              "      <td>'left'</td>\n",
              "      <td>'right_up'</td>\n",
              "      <td>'no'</td>\n",
              "      <td>'recurrence-events'</td>\n",
              "    </tr>\n",
              "    <tr>\n",
              "      <th>4</th>\n",
              "      <td>'50-59'</td>\n",
              "      <td>'premeno'</td>\n",
              "      <td>'25-29'</td>\n",
              "      <td>'3-5'</td>\n",
              "      <td>'no'</td>\n",
              "      <td>'2'</td>\n",
              "      <td>'right'</td>\n",
              "      <td>'left_up'</td>\n",
              "      <td>'yes'</td>\n",
              "      <td>'no-recurrence-events'</td>\n",
              "    </tr>\n",
              "  </tbody>\n",
              "</table>\n",
              "</div>"
            ],
            "text/plain": [
              "       age  menopause tumor-size  ... breast-quad irradiat                   Class\n",
              "0  '50-59'     'ge40'    '15-19'  ...   'central'     'no'  'no-recurrence-events'\n",
              "1  '50-59'     'ge40'    '35-39'  ...  'left_low'     'no'     'recurrence-events'\n",
              "2  '40-49'  'premeno'    '35-39'  ...  'left_low'    'yes'  'no-recurrence-events'\n",
              "3  '40-49'  'premeno'    '30-34'  ...  'right_up'     'no'     'recurrence-events'\n",
              "4  '50-59'  'premeno'    '25-29'  ...   'left_up'    'yes'  'no-recurrence-events'\n",
              "\n",
              "[5 rows x 10 columns]"
            ]
          },
          "metadata": {
            "tags": []
          },
          "execution_count": 4
        }
      ]
    },
    {
      "cell_type": "code",
      "metadata": {
        "colab": {
          "base_uri": "https://localhost:8080/"
        },
        "id": "2rXb7yir4jhH",
        "outputId": "e4055f5c-b234-4350-d38e-ac99cba9cc71"
      },
      "source": [
        "df.isnull().sum()"
      ],
      "execution_count": null,
      "outputs": [
        {
          "output_type": "execute_result",
          "data": {
            "text/plain": [
              "age            0\n",
              "menopause      0\n",
              "tumor-size     0\n",
              "inv-nodes      0\n",
              "node-caps      8\n",
              "deg-malig      0\n",
              "breast         0\n",
              "breast-quad    1\n",
              "irradiat       0\n",
              "Class          0\n",
              "dtype: int64"
            ]
          },
          "metadata": {
            "tags": []
          },
          "execution_count": 5
        }
      ]
    },
    {
      "cell_type": "code",
      "metadata": {
        "colab": {
          "base_uri": "https://localhost:8080/"
        },
        "id": "Pl51nwwn5PpU",
        "outputId": "53d58a1e-b6e6-42cd-e71c-378eb0e934f3"
      },
      "source": [
        "df['breast-quad'].value_counts()"
      ],
      "execution_count": null,
      "outputs": [
        {
          "output_type": "execute_result",
          "data": {
            "text/plain": [
              "'left_low'     110\n",
              "'left_up'       96\n",
              "'right_up'      33\n",
              "'right_low'     24\n",
              "'central'       21\n",
              "Name: breast-quad, dtype: int64"
            ]
          },
          "metadata": {
            "tags": []
          },
          "execution_count": 6
        }
      ]
    },
    {
      "cell_type": "code",
      "metadata": {
        "id": "lBZFWVdm6IXd"
      },
      "source": [
        "# handle missing values\n",
        "df['node-caps'] = df['node-caps'].fillna(df['node-caps'].describe()[2])\n",
        "df['breast-quad']= df['breast-quad'].fillna('left_low')\n"
      ],
      "execution_count": null,
      "outputs": []
    },
    {
      "cell_type": "code",
      "metadata": {
        "colab": {
          "base_uri": "https://localhost:8080/"
        },
        "id": "KwlEjKhh9JZz",
        "outputId": "320015f0-cb61-4a22-92fa-9db9d91deeed"
      },
      "source": [
        "df.isnull().sum()"
      ],
      "execution_count": null,
      "outputs": [
        {
          "output_type": "execute_result",
          "data": {
            "text/plain": [
              "age            0\n",
              "menopause      0\n",
              "tumor-size     0\n",
              "inv-nodes      0\n",
              "node-caps      0\n",
              "deg-malig      0\n",
              "breast         0\n",
              "breast-quad    0\n",
              "irradiat       0\n",
              "Class          0\n",
              "dtype: int64"
            ]
          },
          "metadata": {
            "tags": []
          },
          "execution_count": 8
        }
      ]
    },
    {
      "cell_type": "code",
      "metadata": {
        "colab": {
          "base_uri": "https://localhost:8080/"
        },
        "id": "zeukf6wq1WhI",
        "outputId": "623e3435-c287-4551-b184-6e10f9801c1a"
      },
      "source": [
        "# defining features and target\n",
        "x = df.iloc[:,:-1]\n",
        "y = df.iloc[:,-1]\n",
        "print(df.shape)\n",
        "print(x.shape)\n",
        "print(y.shape)"
      ],
      "execution_count": null,
      "outputs": [
        {
          "output_type": "stream",
          "text": [
            "(285, 10)\n",
            "(285, 9)\n",
            "(285,)\n"
          ],
          "name": "stdout"
        }
      ]
    },
    {
      "cell_type": "markdown",
      "metadata": {
        "id": "ZRvHyBnwwmW-"
      },
      "source": [
        "#### ENCODING CATEGORICAL VARIABLES"
      ]
    },
    {
      "cell_type": "code",
      "metadata": {
        "id": "DbtLRfyD1sbC"
      },
      "source": [
        "#prepare feature variables\n",
        "def prepare_inputs (x):\n",
        "    oe = OrdinalEncoder()\n",
        "    x =oe.fit_transform (x)\n",
        "    return x\n",
        "  \n",
        "#prepare target variables\n",
        "def prepare_targets (y):\n",
        "    le = LabelEncoder()\n",
        "    le.fit(y)\n",
        "    y_train_enc = le.transform(y)\n",
        "    return y"
      ],
      "execution_count": null,
      "outputs": []
    },
    {
      "cell_type": "code",
      "metadata": {
        "id": "Elo65Ffw4UV5"
      },
      "source": [
        "# prepare input data\n",
        "x = prepare_inputs(x)\n",
        "\n",
        "# prepare output data\n",
        "y = prepare_targets(y)"
      ],
      "execution_count": null,
      "outputs": []
    },
    {
      "cell_type": "code",
      "metadata": {
        "colab": {
          "base_uri": "https://localhost:8080/"
        },
        "id": "gNlhmjIy1rXl",
        "outputId": "869ea4a1-b12d-4d2c-a4f7-e746319100cf"
      },
      "source": [
        "# split into train and test sets\n",
        "x_train, x_test, y_train, y_test = train_test_split(x, y, test_size=0.33, random_state=1)\n",
        "\n",
        "#summary\n",
        "print('Train', x_train.shape, y_train.shape)\n",
        "print('Test', x_test.shape, y_test.shape)"
      ],
      "execution_count": null,
      "outputs": [
        {
          "output_type": "stream",
          "text": [
            "Train (190, 9) (190,)\n",
            "Test (95, 9) (95,)\n"
          ],
          "name": "stdout"
        }
      ]
    },
    {
      "cell_type": "markdown",
      "metadata": {
        "id": "oEpXSEPqCuxU"
      },
      "source": [
        "#### FEATURE SELECTION"
      ]
    },
    {
      "cell_type": "code",
      "metadata": {
        "id": "Qv7NSz8J-SmP"
      },
      "source": [
        "from sklearn.feature_selection import SelectKBest\n",
        "from sklearn.feature_selection import chi2\n",
        "from matplotlib import pyplot"
      ],
      "execution_count": null,
      "outputs": []
    },
    {
      "cell_type": "code",
      "metadata": {
        "id": "B90q0oijDGj6"
      },
      "source": [
        "def select_features(X_train, y_train, X_test):\n",
        "  fs = SelectKBest(score_func=chi2, k='all')\n",
        "  fs.fit(x_train, y_train)\n",
        "  x_train_fs = fs.transform(x_train)\n",
        "  x_test_fs = fs.transform(x_test)\n",
        "  return x_train_fs, x_test_fs, fs\n"
      ],
      "execution_count": null,
      "outputs": []
    },
    {
      "cell_type": "code",
      "metadata": {
        "id": "Okp7rlaRDTHN"
      },
      "source": [
        "x_train_fs, x_test_fs, fs = select_features(x_train, y_train, x_test)"
      ],
      "execution_count": null,
      "outputs": []
    },
    {
      "cell_type": "code",
      "metadata": {
        "colab": {
          "base_uri": "https://localhost:8080/",
          "height": 411
        },
        "id": "NYujR4hRDb82",
        "outputId": "585a1cbe-6583-4964-da49-dcc9996ebaef"
      },
      "source": [
        "# what are scores for the features\n",
        "for i in range(len(fs.scores_)):\n",
        "  print('Feature %d: %f' % (i, fs.scores_[i]))\n",
        "# plot the scores\n",
        "pyplot.bar([i for i in range(len(fs.scores_))], fs.scores_)\n",
        "pyplot.show()"
      ],
      "execution_count": null,
      "outputs": [
        {
          "output_type": "stream",
          "text": [
            "Feature 0: 0.104230\n",
            "Feature 1: 0.325405\n",
            "Feature 2: 7.452457\n",
            "Feature 3: 40.800726\n",
            "Feature 4: 7.788018\n",
            "Feature 5: 6.182161\n",
            "Feature 6: 1.013149\n",
            "Feature 7: 2.488369\n",
            "Feature 8: 6.390578\n"
          ],
          "name": "stdout"
        },
        {
          "output_type": "display_data",
          "data": {
            "image/png": "[encoded data removed]",
            "text/plain": [
              "<Figure size 432x288 with 1 Axes>"
            ]
          },
          "metadata": {
            "tags": [],
            "needs_background": "light"
          }
        }
      ]
    },
    {
      "cell_type": "code",
      "metadata": {
        "id": "kH87wX_oDh5D"
      },
      "source": [
        "from sklearn.linear_model import LogisticRegression"
      ],
      "execution_count": null,
      "outputs": []
    },
    {
      "cell_type": "code",
      "metadata": {
        "id": "b86EEG5LFPzM"
      },
      "source": [
        "model = LogisticRegression(solver='lbfgs')\n",
        "model.fit(x_train_fs, y_train)\n",
        "yhat = model.predict(x_test_fs)"
      ],
      "execution_count": null,
      "outputs": []
    },
    {
      "cell_type": "code",
      "metadata": {
        "colab": {
          "base_uri": "https://localhost:8080/"
        },
        "id": "QYAh14D-FclG",
        "outputId": "88b8dd8d-cf1c-4405-998e-e9c372c7a311"
      },
      "source": [
        "# evaluate predictions\n",
        "from sklearn.metrics import accuracy_score\n",
        "accuracy = accuracy_score(y_test, yhat)\n",
        "print(accuracy)"
      ],
      "execution_count": null,
      "outputs": [
        {
          "output_type": "stream",
          "text": [
            "0.7368421052631579\n"
          ],
          "name": "stdout"
        }
      ]
    },
    {
      "cell_type": "markdown",
      "metadata": {
        "id": "G5a6J6kRGJKC"
      },
      "source": [
        "### MODEL BUILDING WITH FEATURE SELECTION USING CHI-SQUARED"
      ]
    },
    {
      "cell_type": "code",
      "metadata": {
        "colab": {
          "base_uri": "https://localhost:8080/"
        },
        "id": "DaH_OeoYFle8",
        "outputId": "dfe6cf24-0abe-470a-a960-e1d126053a56"
      },
      "source": [
        "def select_features(X_train, y_train, X_test):\n",
        "  fs = SelectKBest(score_func=chi2, k=8)\n",
        "  fs.fit(x_train, y_train)\n",
        "  x_train_fs = fs.transform(x_train)\n",
        "  x_test_fs = fs.transform(x_test)\n",
        "  return x_train_fs, x_test_fs, fs\n",
        "\n",
        "x_train_fs, x_test_fs, fs = select_features(x_train, y_train, x_test)\n",
        "\n",
        "model = LogisticRegression(solver='lbfgs')\n",
        "model.fit(x_train_fs, y_train)\n",
        "yhat = model.predict(x_test_fs)\n",
        "\n",
        "accuracy = accuracy_score(y_test, yhat)\n",
        "print(accuracy)"
      ],
      "execution_count": null,
      "outputs": [
        {
          "output_type": "stream",
          "text": [
            "0.7684210526315789\n"
          ],
          "name": "stdout"
        }
      ]
    },
    {
      "cell_type": "markdown",
      "metadata": {
        "id": "yMcpNc4xIBkH"
      },
      "source": [
        "### MODEL BUILDING WITH FEATURE SELECTION USING MUTUAL INFORMATION"
      ]
    },
    {
      "cell_type": "code",
      "metadata": {
        "colab": {
          "base_uri": "https://localhost:8080/"
        },
        "id": "HRkpqUyWF8Vn",
        "outputId": "c0451212-9d06-4c1b-f3fd-4eb87e880dca"
      },
      "source": [
        "from sklearn.feature_selection import mutual_info_classif\n",
        "\n",
        "def select_features(x_train, y_train, X_test):\n",
        "  fs = SelectKBest(score_func=mutual_info_classif, k=7)\n",
        "  fs.fit(x_train, y_train)\n",
        "  x_train_fs = fs.transform(x_train)\n",
        "  x_test_fs = fs.transform(x_test)\n",
        "  return x_train_fs, x_test_fs, fs\n",
        "\n",
        "x_train_fs, x_test_fs, fs = select_features(x_train, y_train, x_test)\n",
        "\n",
        "model = LogisticRegression(solver='lbfgs')\n",
        "model.fit(x_train_fs, y_train)\n",
        "yhat = model.predict(x_test_fs)\n",
        "\n",
        "accuracy = accuracy_score(y_test, yhat)\n",
        "print(accuracy)"
      ],
      "execution_count": null,
      "outputs": [
        {
          "output_type": "stream",
          "text": [
            "0.7578947368421053\n"
          ],
          "name": "stdout"
        }
      ]
    },
    {
      "cell_type": "markdown",
      "metadata": {
        "id": "OHLaXK-TIPq9"
      },
      "source": [
        "### COMPARISON WITH DIMENSIONALITY REDUCTION"
      ]
    },
    {
      "cell_type": "code",
      "metadata": {
        "colab": {
          "base_uri": "https://localhost:8080/"
        },
        "id": "V5k9vOkvHaYC",
        "outputId": "788d8100-0394-4938-ebcb-721c7c945c88"
      },
      "source": [
        "from sklearn.decomposition import PCA\n",
        "\n",
        "pca = PCA(n_components = 6)\n",
        "pca.fit(x_train)\n",
        "x_train_pca = pca.transform(x_train)\n",
        "x_test_pca = pca.transform(x_test)\n",
        "\n",
        "model = LogisticRegression(solver='lbfgs')\n",
        "model.fit(x_train_pca, y_train)\n",
        "yhat = model.predict(x_test_pca)\n",
        "\n",
        "accuracy = accuracy_score(y_test, yhat)\n",
        "print(accuracy)"
      ],
      "execution_count": null,
      "outputs": [
        {
          "output_type": "stream",
          "text": [
            "0.7578947368421053\n"
          ],
          "name": "stdout"
        }
      ]
    },
    {
      "cell_type": "code",
      "metadata": {
        "id": "rkeOT7TeI3rG"
      },
      "source": [
        ""
      ],
      "execution_count": null,
      "outputs": []
    }
  ]
}